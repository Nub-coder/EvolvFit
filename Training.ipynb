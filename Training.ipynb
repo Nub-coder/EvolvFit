{
 "cells": [
  {
   "cell_type": "code",
   "execution_count": null,
   "metadata": {},
   "outputs": [],
   "source": [
    "import os\n",
    "os.environ['KMP_DUPLICATE_LIB_OK']='True'"
   ]
  },
  {
   "cell_type": "markdown",
   "metadata": {},
   "source": [
    "# Importing Necessary Libraries"
   ]
  },
  {
   "cell_type": "code",
   "execution_count": null,
   "metadata": {},
   "outputs": [],
   "source": [
    "import pandas as pd\n",
    "import numpy as np\n",
    "import matplotlib.pyplot as plt\n",
    "%matplotlib inline\n",
    "import matplotlib.image as mpimg\n",
    "import random\n",
    "import imageio\n",
    "import splitfolders\n",
    "import seaborn as sns\n",
    "from keras.models import Model\n",
    "from tensorflow.keras.applications import vgg19\n",
    "from tensorflow.keras.preprocessing.image import ImageDataGenerator\n",
    "from keras.layers import Conv2D,Flatten,Dense,Dropout,MaxPool2D,BatchNormalization,GlobalAveragePooling2D\n",
    "import cv2\n",
    "import keras_vggface\n",
    "import mtcnn\n",
    "from skimage.color import rgb2gray"
   ]
  },
  {
   "cell_type": "code",
   "execution_count": null,
   "metadata": {},
   "outputs": [],
   "source": [
    "filename='/Users/gopalkrishnasingh/Desktop/Projects/EvolvFit/dataset/images/bhuvneshwar_kumar/0389b4a1bc.jpg'"
   ]
  },
  {
   "cell_type": "code",
   "execution_count": null,
   "metadata": {},
   "outputs": [],
   "source": [
    "plt.imshow(plt.imread(filename))"
   ]
  },
  {
   "cell_type": "code",
   "execution_count": null,
   "metadata": {},
   "outputs": [],
   "source": [
    "input_folder = \"/Users/gopalkrishnasingh/Desktop/Projects/EvolvFit/dataset/images\"\n",
    "output = \"/Users/gopalkrishnasingh/Desktop/Projects/EvolvFit/processed_data\"\n",
    "splitfolders.ratio(input_folder, output, seed=24, ratio=(0.6, 0.1, 0.3))"
   ]
  },
  {
   "cell_type": "code",
   "execution_count": null,
   "metadata": {},
   "outputs": [],
   "source": [
    "from PIL import Image\n",
    "from numpy import asarray\n",
    "from mtcnn.mtcnn import MTCNN"
   ]
  },
  {
   "cell_type": "markdown",
   "metadata": {},
   "source": [
    "# Using MTCNN in Extract Face Function"
   ]
  },
  {
   "cell_type": "code",
   "execution_count": null,
   "metadata": {},
   "outputs": [],
   "source": [
    "def extract_face(arr, required_size=(224, 224)):\n",
    "    \n",
    "    pixels = arr\n",
    "    detector = MTCNN()\n",
    "    results = detector.detect_faces(pixels)\n",
    "    if(len(results)==0):\n",
    "        return cv2.resize(arr.astype('uint8'),required_size)\n",
    "    x1, y1, width, height = results[0]['box']\n",
    "    x2, y2 = x1 + width, y1 + height\n",
    "    x2 = min(223,x2)\n",
    "    y2=min(223,y2)\n",
    "    face = pixels[y1:y2, x1:x2]\n",
    "    try:\n",
    "        face_array=cv2.resize(face,required_size)\n",
    "    except:\n",
    "        return cv2.resize(arr.astype('uint8'),required_size)\n",
    "    return face_array\n",
    "\n",
    "pixels = extract_face(cv2.resize(plt.imread(filename).astype('uint8'),(224,224)))\n",
    "plt.imshow(pixels)\n",
    "\n",
    "plt.show()"
   ]
  },
  {
   "cell_type": "code",
   "execution_count": null,
   "metadata": {},
   "outputs": [],
   "source": [
    "from keras_vggface.utils import preprocess_input\n",
    "from keras_vggface.vggface import VGGFace\n",
    "from keras_vggface.utils import decode_predictions"
   ]
  },
  {
   "cell_type": "code",
   "execution_count": null,
   "metadata": {},
   "outputs": [],
   "source": [
    "train_data_dir = \"/Users/gopalkrishnasingh/Desktop/Projects/EvolvFit/processed_data/train\"\n",
    "valid_data_dir = \"/Users/gopalkrishnasingh/Desktop/Projects/EvolvFit/processed_data/val\"\n",
    "test_data_dir = \"/Users/gopalkrishnasingh/Desktop/Projects/EvolvFit/processed_data/test\""
   ]
  },
  {
   "cell_type": "code",
   "execution_count": null,
   "metadata": {},
   "outputs": [],
   "source": [
    "batch_size=8\n",
    "img_height,img_width = (224,224)"
   ]
  },
  {
   "cell_type": "markdown",
   "metadata": {},
   "source": [
    "# Self Designed Pre-Processing Function"
   ]
  },
  {
   "cell_type": "code",
   "execution_count": null,
   "metadata": {},
   "outputs": [],
   "source": [
    "def sumit_function(arr):\n",
    "    #print(type(arr[0,0,0]))\n",
    "    arr = extract_face ( cv2.resize(arr.astype('uint8') ,(224,224)).astype('uint8') )\n",
    "    arr = preprocess_input(arr.astype('float32'))\n",
    "    return arr\n",
    "plt.imshow(sumit_function(plt.imread(filename).astype('float64')))"
   ]
  },
  {
   "cell_type": "markdown",
   "metadata": {},
   "source": [
    "# Data Generator"
   ]
  },
  {
   "cell_type": "code",
   "execution_count": null,
   "metadata": {},
   "outputs": [],
   "source": [
    "train_datagen = ImageDataGenerator(preprocessing_function=sumit_function,\n",
    "                                  shear_range=0.1,\n",
    "                                  zoom_range=0.1,\n",
    "                                  rotation_range=5)\n",
    "\n",
    "train_generator = train_datagen.flow_from_directory(\n",
    "train_data_dir,\n",
    "target_size=(img_height,img_width),\n",
    "batch_size=batch_size,\n",
    "class_mode='categorical')\n",
    "\n",
    "valid_generator = train_datagen.flow_from_directory(\n",
    "valid_data_dir , target_size=(img_height,img_width),\n",
    "batch_size=1,\n",
    "class_mode='categorical')\n",
    "\n",
    "\n",
    "test_generator = train_datagen.flow_from_directory(\n",
    "test_data_dir,\n",
    "target_size=(img_height,img_width),\n",
    "batch_size=1,\n",
    "class_mode='categorical')"
   ]
  },
  {
   "cell_type": "code",
   "execution_count": null,
   "metadata": {},
   "outputs": [],
   "source": [
    "from keras.optimizers import Adam"
   ]
  },
  {
   "cell_type": "markdown",
   "metadata": {},
   "source": [
    "# Loading the Model"
   ]
  },
  {
   "cell_type": "code",
   "execution_count": null,
   "metadata": {
    "scrolled": true
   },
   "outputs": [],
   "source": [
    "base_model = VGGFace(model='resnet50', include_top=False, input_shape=(224, 224, 3),pooling='avg')\n",
    "\n",
    "\n",
    "for layer in base_model.layers:\n",
    "    layer.trainable = False\n",
    "#base_model.summary()\n",
    "x = base_model.output\n",
    "x = Dense (15, activation='softmax')(x)\n",
    "\n",
    "model = Model( base_model.input, x)\n",
    "\n",
    "model.compile(optimizer = \"adam\",loss = 'categorical_crossentropy',metrics = ['accuracy'])\n",
    "\n",
    "model.summary()"
   ]
  },
  {
   "cell_type": "code",
   "execution_count": null,
   "metadata": {
    "scrolled": true
   },
   "outputs": [],
   "source": [
    "train_generator[0]"
   ]
  },
  {
   "cell_type": "markdown",
   "metadata": {},
   "source": [
    "# Fitting the Model"
   ]
  },
  {
   "cell_type": "code",
   "execution_count": null,
   "metadata": {
    "scrolled": true
   },
   "outputs": [],
   "source": [
    "results = model.fit_generator(train_generator,validation_data=valid_generator,steps_per_epoch=train_generator.samples//train_generator.batch_size ,validation_steps=valid_generator.samples//valid_generator.batch_size,epochs=20)"
   ]
  },
  {
   "cell_type": "markdown",
   "metadata": {},
   "source": [
    "# Saving the Model"
   ]
  },
  {
   "cell_type": "code",
   "execution_count": null,
   "metadata": {},
   "outputs": [],
   "source": [
    "model.save('/Users/gopalkrishnasingh/Desktop/Projects/EvolvFit/report2.h5')"
   ]
  },
  {
   "cell_type": "code",
   "execution_count": null,
   "metadata": {},
   "outputs": [],
   "source": [
    "df = pd.DataFrame(model.history.history)\n",
    "df.to_csv('Result.csv')"
   ]
  },
  {
   "cell_type": "markdown",
   "metadata": {},
   "source": [
    "# Prediction"
   ]
  },
  {
   "cell_type": "code",
   "execution_count": null,
   "metadata": {},
   "outputs": [],
   "source": [
    "prediction=model.predict_generator(test_generator,steps=len(test_generator.classes))"
   ]
  },
  {
   "cell_type": "code",
   "execution_count": null,
   "metadata": {},
   "outputs": [],
   "source": [
    "pred=prediction.argmax(axis=-1)"
   ]
  },
  {
   "cell_type": "code",
   "execution_count": null,
   "metadata": {},
   "outputs": [],
   "source": [
    "from sklearn.metrics import classification_report"
   ]
  },
  {
   "cell_type": "markdown",
   "metadata": {},
   "source": [
    "# Classification report"
   ]
  },
  {
   "cell_type": "code",
   "execution_count": null,
   "metadata": {},
   "outputs": [],
   "source": [
    "print(classification_report(test_generator.classes,pred))"
   ]
  }
 ],
 "metadata": {
  "kernelspec": {
   "display_name": "Python 3",
   "language": "python",
   "name": "python3"
  },
  "language_info": {
   "codemirror_mode": {
    "name": "ipython",
    "version": 3
   },
   "file_extension": ".py",
   "mimetype": "text/x-python",
   "name": "python",
   "nbconvert_exporter": "python",
   "pygments_lexer": "ipython3",
   "version": "3.7.6"
  }
 },
 "nbformat": 4,
 "nbformat_minor": 4
}
